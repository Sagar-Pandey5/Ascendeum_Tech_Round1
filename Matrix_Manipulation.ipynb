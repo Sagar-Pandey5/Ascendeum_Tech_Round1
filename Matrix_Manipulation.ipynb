{
 "cells": [
  {
   "cell_type": "code",
   "execution_count": 71,
   "id": "eca1238b-aa3d-44c4-b74b-4ce399a8456d",
   "metadata": {},
   "outputs": [],
   "source": [
    "def gen_spiral_matrix(n):\n",
    "    matrix =[[0]*n for _ in range(n)]\n",
    "    top, bottom = 0, n-1\n",
    "    left,right = 0, n-1\n",
    "    direction = 0\n",
    "    num = 1\n",
    "    \n",
    "    while top <= bottom and left <= right:\n",
    "        \n",
    "        if direction == 0:\n",
    "            for i in range(left, right+1):\n",
    "                matrix[top][i] = num\n",
    "                num += 1\n",
    "            top += 1\n",
    "            \n",
    "        elif direction == 1:\n",
    "            for i in range(top, bottom+1):\n",
    "                matrix[i][right]= num\n",
    "                num += 1\n",
    "            right -= 1\n",
    "            \n",
    "        elif direction == 2:\n",
    "            for i in range(right, left-1,-1):\n",
    "                matrix[bottom][i]= num\n",
    "                num += 1\n",
    "            bottom -= 1\n",
    " \n",
    "        elif direction == 3:\n",
    "            for i in range(bottom, top-1,-1):\n",
    "                matrix[i][left] = num\n",
    "                num += 1\n",
    "            left += 1\n",
    "\n",
    "        else:\n",
    "            for i in range(bottom, top-1,-1):\n",
    "                matrix[i][left] = num\n",
    "                num += 1\n",
    "            left += 1\n",
    "\n",
    "        direction = (direction+1) % 4\n",
    "\n",
    "    return matrix"
   ]
  },
  {
   "cell_type": "code",
   "execution_count": 73,
   "id": "6c931ca3-9575-4dac-b66e-e0c08063f10a",
   "metadata": {},
   "outputs": [],
   "source": [
    "n=4\n",
    "spiral_matrix = gen_spiral_matrix(n)"
   ]
  },
  {
   "cell_type": "code",
   "execution_count": 75,
   "id": "59faadff-0c0b-404c-8a7a-9a3688e97507",
   "metadata": {},
   "outputs": [
    {
     "name": "stdout",
     "output_type": "stream",
     "text": [
      "[1, 2, 3, 4, 5]\n",
      "[16, 17, 18, 19, 6]\n",
      "[15, 24, 25, 20, 7]\n",
      "[14, 23, 22, 21, 8]\n",
      "[13, 12, 11, 10, 9]\n"
     ]
    }
   ],
   "source": [
    "for row in spiral_matrix:\n",
    "    print(row)"
   ]
  },
  {
   "cell_type": "code",
   "execution_count": null,
   "id": "f7b7d5ce-a40a-4b52-a37b-ec0053fc7109",
   "metadata": {},
   "outputs": [],
   "source": []
  }
 ],
 "metadata": {
  "kernelspec": {
   "display_name": "Python [conda env:base] *",
   "language": "python",
   "name": "conda-base-py"
  },
  "language_info": {
   "codemirror_mode": {
    "name": "ipython",
    "version": 3
   },
   "file_extension": ".py",
   "mimetype": "text/x-python",
   "name": "python",
   "nbconvert_exporter": "python",
   "pygments_lexer": "ipython3",
   "version": "3.12.7"
  }
 },
 "nbformat": 4,
 "nbformat_minor": 5
}
